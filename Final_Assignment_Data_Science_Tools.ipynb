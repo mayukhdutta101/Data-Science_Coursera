{
 "cells": [
  {
   "cell_type": "markdown",
   "id": "5e4bcb04",
   "metadata": {},
   "source": [
    "# Final Assignment - Data Science Tools and Ecosystem"
   ]
  },
  {
   "cell_type": "markdown",
   "id": "9d816473",
   "metadata": {},
   "source": [
    "## Introduction\n",
    "\n",
    "In this notebook, we will summarize some of the key tools, libraries, and concepts in the field of Data Science. This includes listing popular programming languages, libraries used in data science, and performing simple arithmetic operations using Python."
   ]
  },
  {
   "cell_type": "markdown",
   "id": "43a06a32",
   "metadata": {},
   "source": [
    "## Data Science Languages\n",
    "\n",
    "Some of the popular languages that Data Scientists use are:\n",
    "\n",
    "1. Python\n",
    "2. R\n",
    "3. SQL\n",
    "4. Julia\n",
    "5. Scala"
   ]
  },
  {
   "cell_type": "markdown",
   "id": "cc11f038",
   "metadata": {},
   "source": [
    "## Data Science Libraries\n",
    "\n",
    "Some of the commonly used libraries used by Data Scientists include:\n",
    "\n",
    "1. NumPy\n",
    "2. Pandas\n",
    "3. Matplotlib\n",
    "4. Seaborn\n",
    "5. Scikit-learn\n",
    "6. TensorFlow"
   ]
  },
  {
   "cell_type": "markdown",
   "id": "c65230d0",
   "metadata": {},
   "source": [
    "## Data Science Tools\n",
    "\n",
    "| Category        | Tool Name          |\n",
    "|----------------|--------------------|\n",
    "| Data Integration | Apache Airflow     |\n",
    "| Data Visualization | Tableau           |\n",
    "| Machine Learning | TensorFlow         |\n",
    "| Programming IDE | Jupyter Notebook    |\n",
    "| Big Data Platform | Apache Hadoop     |"
   ]
  },
  {
   "cell_type": "markdown",
   "id": "dc45a275",
   "metadata": {},
   "source": [
    "## Arithmetic Expression Examples\n",
    "\n",
    "In this section, we will perform a few simple arithmetic operations using Python code."
   ]
  },
  {
   "cell_type": "code",
   "execution_count": null,
   "id": "1b5cf859",
   "metadata": {},
   "outputs": [],
   "source": [
    "# This expression multiplies 3 and 4, then adds 5\n",
    "result = (3 * 4) + 5\n",
    "result"
   ]
  },
  {
   "cell_type": "code",
   "execution_count": null,
   "id": "16d02439",
   "metadata": {},
   "outputs": [],
   "source": [
    "# This will convert 200 minutes to hours\n",
    "minutes = 200\n",
    "hours = minutes / 60\n",
    "hours"
   ]
  },
  {
   "cell_type": "markdown",
   "id": "d0969d1f",
   "metadata": {},
   "source": [
    "## Objectives\n",
    "\n",
    "In this notebook, you will:\n",
    "\n",
    "- List popular languages used in Data Science\n",
    "- Identify commonly used libraries in Data Science\n",
    "- Create a table of data science tools\n",
    "- Perform basic arithmetic operations using Python\n",
    "- Convert minutes to hours using Python code"
   ]
  },
  {
   "cell_type": "markdown",
   "id": "1140fdc4",
   "metadata": {},
   "source": [
    "## Author\n",
    "\n",
    "**Qulab Abbas**  "
   ]
  }
 ],
 "metadata": {
  "language_info": {
   "name": "python"
  }
 },
 "nbformat": 4,
 "nbformat_minor": 5
}
